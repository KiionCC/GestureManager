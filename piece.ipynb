{
 "cells": [
  {
   "cell_type": "code",
   "execution_count": 18,
   "metadata": {},
   "outputs": [
    {
     "name": "stdout",
     "output_type": "stream",
     "text": [
      "{'name': '左滑', 'gesture': '1', 'isopen': True, 'img_res': 'res/左滑.png', 'action': []}\n",
      "<class 'dict'>\n"
     ]
    }
   ],
   "source": [
    "# 读取配置文件\n",
    "configFile = open('C:/Users/GetALife/AppData/Roaming/gesturemanager/config.json','r+',encoding='utf-8')\n",
    "configStr = configFile.read()\n",
    "# print(configStr)\n",
    "import json\n",
    "configObj = json.loads(configStr)\n",
    "print(configObj['gesture_list'][0])\n",
    "print(type(configObj['gesture_list'][0]))\n",
    "configFile.close()\n",
    "from pykeyboard import PyKeyboard\n",
    "\n",
    "keyMap = {\n",
    "    'ctrl':k.control_key,\n",
    "    'alt':k.alt_key,\n",
    "    'home':k.windows_l_key,\n",
    "    'shift':k.shift_key,\n",
    "    'space':k.space_key,\n",
    "    'up':k.up_key,\n",
    "    'down':k.down_key,\n",
    "    'left':k.left_key,\n",
    "    'right':k.right_key\n",
    "}\n",
    "#k = PyKeyboard()\n",
    "#k.press_key(keyMap.get('ctrl'))\n",
    "#k.press_key(k.windows_l_key)\n",
    "#k.press_key(k.left_key)\n",
    "\n",
    "#k.release_key(k.control_key)\n",
    "#k.release_key(k.left_key)\n",
    "#k.release_key(k.windows_l_key)"
   ]
  },
  {
   "cell_type": "code",
   "execution_count": null,
   "metadata": {},
   "outputs": [],
   "source": [
    "def controll_PC(index,configObj):\n",
    "    if index ==0:\n",
    "        print('do nothing')\n",
    "    elif index ==1:\n",
    "        print('do nothing')\n",
    "    elif index ==2:\n",
    "        print('do nothing')\n",
    "    elif index ==3:\n",
    "        keyboards.press(Key.ctrl)\n",
    "        keyboards.press(Key.cmd)\n",
    "        keyboards.press(Key.left)\n",
    "        \n",
    "        print('swipe window right')\n",
    "        print()\n",
    "        keyboards.release(Key.ctrl)\n",
    "        keyboards.release(Key.cmd)\n",
    "        keyboards.release(Key.left)\n",
    "    elif index ==4:\n",
    "        keyboards.press(Key.ctrl)\n",
    "        keyboards.press(Key.cmd)\n",
    "        keyboards.press(Key.right)\n",
    "        \n",
    "        print('swipe window left')\n",
    "        print()\n",
    "        keyboards.release(Key.ctrl)\n",
    "        keyboards.release(Key.cmd)\n",
    "        keyboards.release(Key.right)"
   ]
  }
 ],
 "metadata": {
  "kernelspec": {
   "display_name": "Python 3",
   "language": "python",
   "name": "python3"
  },
  "language_info": {
   "codemirror_mode": {
    "name": "ipython",
    "version": 3
   },
   "file_extension": ".py",
   "mimetype": "text/x-python",
   "name": "python",
   "nbconvert_exporter": "python",
   "pygments_lexer": "ipython3",
   "version": "3.6.8"
  }
 },
 "nbformat": 4,
 "nbformat_minor": 2
}
