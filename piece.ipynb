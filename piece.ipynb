{
 "cells": [
  {
   "cell_type": "code",
   "execution_count": 3,
   "metadata": {},
   "outputs": [],
   "source": [
    "def controll_PC(index,configObj):\n",
    "    for i in configObj['gesture_list'][index]['action']:\n",
    "        k.press_key(keyMap.get(i))\n",
    "        print(i)\n",
    "    for i in configObj['gesture_list'][index]['action']:\n",
    "        k.release_key(keyMap.get(i))"
   ]
  },
  {
   "cell_type": "code",
   "execution_count": 4,
   "metadata": {},
   "outputs": [
    {
     "name": "stdout",
     "output_type": "stream",
     "text": [
      "['ctrl', 'home', 'left']\n",
      "<class 'bool'>\n",
      "ctrl\n",
      "home\n",
      "left\n"
     ]
    }
   ],
   "source": [
    "# 读取配置文件\n",
    "configFile = open('C:/Users/GetALife/AppData/Roaming/gesturemanager/config.json','r+',encoding='utf-8')\n",
    "configStr = configFile.read()\n",
    "# print(configStr)\n",
    "import json\n",
    "configObj = json.loads(configStr)\n",
    "print(configObj['gesture_list'][3]['action'])\n",
    "\n",
    "print(type(configObj['gesture_list'][0]['isopen']))\n",
    "configFile.close()\n",
    "from pykeyboard import PyKeyboard\n",
    "k = PyKeyboard()\n",
    "keyMap = {\n",
    "    'ctrl':k.control_key,\n",
    "    'alt':k.alt_key,\n",
    "    'home':k.windows_l_key,\n",
    "    'shift':k.shift_key,\n",
    "    'space':k.space_key,\n",
    "    'up':k.up_key,\n",
    "    'down':k.down_key,\n",
    "    'left':k.left_key,\n",
    "    'right':k.right_key\n",
    "}\n",
    "\n",
    "controll_PC(3,configObj)\n",
    "#\n",
    "#k.press_key(keyMap.get('ctrl'))\n",
    "#k.press_key(k.windows_l_key)\n",
    "#k.press_key(k.left_key)\n",
    "\n",
    "#k.release_key(k.control_key)\n",
    "#k.release_key(k.left_key)\n",
    "#k.release_key(k.windows_l_key)"
   ]
  },
  {
   "cell_type": "code",
   "execution_count": 5,
   "metadata": {},
   "outputs": [],
   "source": [
    "from pykeyboard import PyKeyboard\n",
    "\n",
    "k = PyKeyboard()\n",
    "\n",
    "k.press_key(k.windows_l_key)\n",
    "k.press_key('1')\n",
    "\n",
    "k.release_key(k.windows_l_key)\n",
    "k.release_key('1')\n",
    "\n",
    "\n"
   ]
  },
  {
   "cell_type": "code",
   "execution_count": null,
   "metadata": {},
   "outputs": [],
   "source": []
  }
 ],
 "metadata": {
  "kernelspec": {
   "display_name": "Python 3",
   "language": "python",
   "name": "python3"
  },
  "language_info": {
   "codemirror_mode": {
    "name": "ipython",
    "version": 3
   },
   "file_extension": ".py",
   "mimetype": "text/x-python",
   "name": "python",
   "nbconvert_exporter": "python",
   "pygments_lexer": "ipython3",
   "version": "3.6.8"
  }
 },
 "nbformat": 4,
 "nbformat_minor": 2
}
