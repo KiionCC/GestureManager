{
 "cells": [
  {
   "cell_type": "code",
   "execution_count": 7,
   "metadata": {},
   "outputs": [
    {
     "name": "stdout",
     "output_type": "stream",
     "text": [
      "{'gesture_list': [{'name': '左滑', 'gesture': '1', 'isopen': True, 'img_res': 'res/左滑.png', 'action': []}, {'name': '右滑', 'gesture': '2', 'isopen': False, 'img_res': 'res/右滑.png', 'action': []}, {'name': '前推', 'gesture': '3', 'isopen': False, 'img_res': 'res/前推.png', 'action': []}, {'name': '前滚', 'gesture': '4', 'isopen': False, 'img_res': 'res/前滚.png', 'action': []}, {'name': '后滚', 'gesture': '5', 'isopen': False, 'img_res': 'res/后滚.png', 'action': []}, {'name': '无手势', 'gesture': '6', 'isopen': False, 'img_res': 'res/default.png', 'action': []}]}\n",
      "<class 'dict'>\n"
     ]
    }
   ],
   "source": [
    "# 读取配置文件\n",
    "configFile = open('C:/Users/GetALife/AppData/Roaming/gesturemanager/config.json','r+',encoding='utf-8')\n",
    "configStr = configFile.read()\n",
    "# print(configStr)\n",
    "import json\n",
    "configObj = json.loads(configStr)\n",
    "# print(configObj)\n",
    "# print(type(configObj))\n",
    "configFile.close()"
   ]
  },
  {
   "cell_type": "code",
   "execution_count": null,
   "metadata": {},
   "outputs": [],
   "source": []
  }
 ],
 "metadata": {
  "kernelspec": {
   "display_name": "'Python Interactive'",
   "language": "python",
   "name": "db9919f9-3214-4a51-a4b3-35ccdee48ea5"
  },
  "language_info": {
   "codemirror_mode": {
    "name": "ipython",
    "version": 3
   },
   "file_extension": ".py",
   "mimetype": "text/x-python",
   "name": "python",
   "nbconvert_exporter": "python",
   "pygments_lexer": "ipython3",
   "version": "3.6.8"
  }
 },
 "nbformat": 4,
 "nbformat_minor": 2
}
